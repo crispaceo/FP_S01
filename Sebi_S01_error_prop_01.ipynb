{
 "cells": [
  {
   "cell_type": "markdown",
   "metadata": {},
   "source": [
    "# Error propagation\n",
    "\n",
    "## Tasks\n",
    "\n",
    "Solve the tasks below.\n",
    "For each task, give reasons for your solution by commenting in the notebook.\n",
    "In conclusion, summarize your findings and contextualize them. What have you learned? Do the results make sense?\n",
    "\n",
    "Your results will be examined for plagiarism. Please use your own plot styles, articulate your own thoughts, and present your own experimental approaches.\n",
    "\n",
    "a) Propagate uncertainties for the following expressions using [SymPy](https://www.sympy.org) following the examples for [uncorrelated variables](https://nbviewer.jupyter.org/urls/www.physi.uni-heidelberg.de/Einrichtungen/FP/Datenanalyse/FP_Gaussian_error_propagation.ipynb?flush_cache=false) and [correlated variables](https://nbviewer.jupyter.org/urls/www.physi.uni-heidelberg.de/Einrichtungen/FP/Datenanalyse/FP_Gaussian_error_propagation_corr.ipynb?flush_cache=false) from the FP web page.\n",
    "\n",
    "i) Find expressions for the absolute uncertainty $\\sigma_z$ for $z = x + y$ and $z = x - y$ \n",
    "\n",
    "ii) Find expressions for the relative uncertainty $\\sigma_z / z$ for $z = x \\cdot y, \\; z = x / y$ and $z = x^n y^n$\n",
    "\n",
    "iii) The acceleration of gravity with a simple pendulum is given by the following formula:\n",
    "$$g = 4  \\pi^2 \\frac{L}{T^2}$$\n",
    "The relevant variables are the length $L$ of the pendulum and the period $T$ with the corresponding errors $\\sigma_L$ and $\\sigma_T$.\n",
    "\n",
    "iv) The energy of a rotating object is given by:\n",
    "$$E = \\frac{1}{2} I \\omega^2$$\n",
    "The relevant variables are the angular velocity $\\omega$ and the moment of interia $I$ with the corresponding errors $\\sigma_\\omega$ and $\\sigma_I$.\n",
    "\n",
    "b) The radius $r$ and the height $h$ of a cylinder have been measured to $r = 5$ cm and $h = 2$ cm. The uncertainty for both measurements is $\\sigma = 0.1$ cm. Determine the volume of the cylinder and its uncertainty assuming (i) that both measurements are uncorrelated and (ii) that both measurements are fully correlated.\n",
    "\n",
    "c) The scattering angle and the radial distance of a certain particle can be determined from a position measurement $(x,y)$ \n",
    "$$r = \\sqrt{x^2 + y^2}, \\quad \\theta = \\mathrm{atan2}(y, x)$$\n",
    "You find more on the [atan2](https://en.wikipedia.org/wiki/Atan2) function on wikipedia. The position ($x$,$y$) is measured with the corresponding uncertainties $\\sigma_x$ and $\\sigma_y$. Write a python function that returns the covariance matrix $U$ of $r$ and $\\theta$ for a given covariance matrix $V$ of $x$ and $y$. Determine $U$ under the assumption that $x$ and $y$ are uncorrelated. Hint: The formulas you need can be found in the script.\n"
   ]
  },
  {
   "cell_type": "markdown",
   "metadata": {},
   "source": [
    "### Solution"
   ]
  },
  {
   "cell_type": "code",
   "execution_count": 2,
   "metadata": {},
   "outputs": [],
   "source": [
    "from sympy import *\n",
    "from IPython.display import display, Latex\n",
    "\n",
    "# taking inspiration for how to error prop with sympy from the FPs error prop notebooks\n",
    "# boils down to regular gaussian error prop but we dont have to do the derivitaves ourselves\n",
    "\n",
    "from sympy import symbols, sqrt, diff, pi, latex, simplify\n",
    "\n",
    "def error_prop(f, vars):\n",
    "    \"\"\"Uncorrelated error propagation.\"\"\"\n",
    "    sum_expr = 0\n",
    "    for (var, sigma) in vars:\n",
    "        sum_expr += diff(f, var)**2 * sigma**2\n",
    "    return sqrt(sum_expr)\n",
    "\n",
    "def error_prop_corr(f, vars, cov_matrix):\n",
    "    \"\"\"Correlated error propagation.\"\"\"\n",
    "    sum_expr = 0\n",
    "    n = len(vars)\n",
    "    for i in range(n):\n",
    "        for j in range(n):\n",
    "            sum_expr += diff(f, vars[i]) * diff(f, vars[j]) * cov_matrix[i][j]\n",
    "    return sqrt(sum_expr)\n",
    "\n"
   ]
  },
  {
   "cell_type": "markdown",
   "metadata": {},
   "source": [
    "a) Propagate uncertainties for the following expressions using [SymPy](https://www.sympy.org) following the examples for [uncorrelated variables](https://nbviewer.jupyter.org/urls/www.physi.uni-heidelberg.de/Einrichtungen/FP/Datenanalyse/FP_Gaussian_error_propagation.ipynb?flush_cache=false) and [correlated variables](https://nbviewer.jupyter.org/urls/www.physi.uni-heidelberg.de/Einrichtungen/FP/Datenanalyse/FP_Gaussian_error_propagation_corr.ipynb?flush_cache=false) from the FP web page.\n",
    "\n",
    "i) Find expressions for the absolute uncertainty $\\sigma_z$ for $z = x + y$ and $z = x - y$ "
   ]
  },
  {
   "cell_type": "code",
   "execution_count": 5,
   "metadata": {},
   "outputs": [
    {
     "data": {
      "text/latex": [
       "For $z = x + y$: $$\\sigma_z = \\sqrt{\\sigma_{x}^{2} + \\sigma_{y}^{2}}$$"
      ],
      "text/plain": [
       "<IPython.core.display.Latex object>"
      ]
     },
     "metadata": {},
     "output_type": "display_data"
    },
    {
     "data": {
      "text/latex": [
       "For $z = x - y$: $$\\sigma_z = \\sqrt{\\sigma_{x}^{2} + \\sigma_{y}^{2}}$$"
      ],
      "text/plain": [
       "<IPython.core.display.Latex object>"
      ]
     },
     "metadata": {},
     "output_type": "display_data"
    }
   ],
   "source": [
    "# define symbols for in and output \n",
    "\n",
    "x, y, sigma_x, sigma_y = symbols('x y sigma_x sigma_y', positive=True)\n",
    "\n",
    "z_plus = x + y\n",
    "sigma_z_add = error_prop(z_plus, [(x, sigma_x), (y, sigma_y)])\n",
    "display(Latex(f\"For $z = x + y$: $$\\\\sigma_z = {latex(sigma_z_add)}$$\"))\n",
    "\n",
    "z_minus = x - y\n",
    "sigma_z_sub = error_prop(z_minus, [(x, sigma_x), (y, sigma_y)])\n",
    "display(Latex(f\"For $z = x - y$: $$\\\\sigma_z = {latex(sigma_z_sub)}$$\"))"
   ]
  },
  {
   "cell_type": "markdown",
   "metadata": {},
   "source": [
    "Absolute error of a sum is the geometric mean of the summands absolute errors – just as we've been taught in beginner lab courses.\n",
    "\n",
    "ii) Find expressions for the relative uncertainty $\\sigma_z / z$ for $z = x \\cdot y, \\; z = x / y$ and $z = x^n y^n$"
   ]
  },
  {
   "cell_type": "code",
   "execution_count": 7,
   "metadata": {},
   "outputs": [
    {
     "data": {
      "text/latex": [
       "For $z = xy$: $$\\frac{\\sigma_z}{z} = \\frac{\\sqrt{\\sigma_{x}^{2} y^{2} + \\sigma_{y}^{2} x^{2}}}{x y}$$"
      ],
      "text/plain": [
       "<IPython.core.display.Latex object>"
      ]
     },
     "metadata": {},
     "output_type": "display_data"
    },
    {
     "data": {
      "text/latex": [
       "For $z = x/y$: $$\\frac{\\sigma_z}{z} = \\frac{\\sqrt{\\sigma_{x}^{2} y^{2} + \\sigma_{y}^{2} x^{2}}}{x y}$$"
      ],
      "text/plain": [
       "<IPython.core.display.Latex object>"
      ]
     },
     "metadata": {},
     "output_type": "display_data"
    },
    {
     "data": {
      "text/latex": [
       "For $z = x^n y^n$: $$\\frac{\\sigma_z}{z} = \\frac{n \\sqrt{\\sigma_{x}^{2} y^{2} + \\sigma_{y}^{2} x^{2}}}{x y}$$"
      ],
      "text/plain": [
       "<IPython.core.display.Latex object>"
      ]
     },
     "metadata": {},
     "output_type": "display_data"
    }
   ],
   "source": [
    "# same things as before bascially\n",
    "z_mul = x * y\n",
    "sigma_z_mul = error_prop(z_mul, [(x, sigma_x), (y, sigma_y)])\n",
    "rel_mul = (sigma_z_mul / z_mul).simplify()\n",
    "display(Latex(f\"For $z = xy$: $$\\\\frac{{\\\\sigma_z}}{{z}} = {latex(rel_mul)}$$\"))\n",
    "\n",
    "z_div = x / y\n",
    "sigma_z_div = error_prop(z_div, [(x, sigma_x), (y, sigma_y)])\n",
    "rel_div = (sigma_z_div / z_div).simplify()\n",
    "display(Latex(f\"For $z = x/y$: $$\\\\frac{{\\\\sigma_z}}{{z}} = {latex(rel_div)}$$\"))\n",
    "\n",
    "n = symbols('n', positive=True)\n",
    "z_pow = (x**n) * (y**n)\n",
    "sigma_z_pow = error_prop(z_pow, [(x, sigma_x), (y, sigma_y)])\n",
    "rel_pow = (sigma_z_pow / z_pow).simplify()\n",
    "display(Latex(f\"For $z = x^n y^n$: $$\\\\frac{{\\\\sigma_z}}{{z}} = {latex(rel_pow)}$$\"))"
   ]
  },
  {
   "cell_type": "markdown",
   "metadata": {},
   "source": [
    "We don't really like how Sympy formats the end result. But pulling the /xy terms into the square root reveals what we already know – for multiplicative processes the relative error of the result is the geometric mean of the factors' relative errors.\n",
    "\n",
    "iii) The acceleration of gravity with a simple pendulum is given by the following formula:\n",
    "$$g = 4  \\pi^2 \\frac{L}{T^2}$$\n",
    "The relevant variables are the length $L$ of the pendulum and the period $T$ with the corresponding errors $\\sigma_L$ and $\\sigma_T$."
   ]
  },
  {
   "cell_type": "code",
   "execution_count": 8,
   "metadata": {},
   "outputs": [
    {
     "data": {
      "text/latex": [
       "$$\\sigma_g = \\frac{4 \\pi^{2} \\sqrt{4 L^{2} \\sigma_{T}^{2} + T^{2} \\sigma_{L}^{2}}}{T^{3}}$$"
      ],
      "text/plain": [
       "<IPython.core.display.Latex object>"
      ]
     },
     "metadata": {},
     "output_type": "display_data"
    }
   ],
   "source": [
    "# having such a function makes life quite easy – just define the symbols and lets go\n",
    "L, T, sigma_L, sigma_T = symbols('L T sigma_L sigma_T', positive=True)\n",
    "g = 4 * pi**2 * L / T**2\n",
    "sigma_g = error_prop(g, [(L, sigma_L), (T, sigma_T)]).simplify()\n",
    "display(Latex(f\"$$\\\\sigma_g = {latex(sigma_g)}$$\"))"
   ]
  },
  {
   "cell_type": "markdown",
   "metadata": {},
   "source": [
    "iv) The energy of a rotating object is given by:\n",
    "$$E = \\frac{1}{2} I \\omega^2$$\n",
    "The relevant variables are the angular velocity $\\omega$ and the moment of interia $I$ with the corresponding errors $\\sigma_\\omega$ and $\\sigma_I$."
   ]
  },
  {
   "cell_type": "code",
   "execution_count": 10,
   "metadata": {},
   "outputs": [
    {
     "data": {
      "text/latex": [
       "$$\\sigma_E = \\omega \\sqrt{1.0 I^{2} \\sigma_{\\omega}^{2} + 0.25 \\omega^{2} \\sigma_{I}^{2}}$$"
      ],
      "text/plain": [
       "<IPython.core.display.Latex object>"
      ]
     },
     "metadata": {},
     "output_type": "display_data"
    }
   ],
   "source": [
    "# anda gain\n",
    "I, omega, sigma_I, sigma_omega = symbols('I omega sigma_I sigma_omega', positive=True)\n",
    "E = 0.5 * I * omega**2\n",
    "sigma_E = error_prop(E, [(I, sigma_I), (omega, sigma_omega)]).simplify()\n",
    "display(Latex(f\"$$\\\\sigma_E = {latex(sigma_E)}$$\"))"
   ]
  },
  {
   "cell_type": "markdown",
   "metadata": {},
   "source": [
    "b) The radius $r$ and the height $h$ of a cylinder have been measured to $r = 5$ cm and $h = 2$ cm. The uncertainty for both measurements is $\\sigma = 0.1$ cm. Determine the volume of the cylinder and its uncertainty assuming (i) that both measurements are uncorrelated and (ii) that both measurements are fully correlated."
   ]
  },
  {
   "cell_type": "code",
   "execution_count": 12,
   "metadata": {},
   "outputs": [
    {
     "data": {
      "text/latex": [
       " Volume: $V = \\pi h r^{2} = 157.1 \\, \\mathrm{cm}^3$"
      ],
      "text/plain": [
       "<IPython.core.display.Latex object>"
      ]
     },
     "metadata": {},
     "output_type": "display_data"
    },
    {
     "data": {
      "text/latex": [
       "Uncorrelated: $\\sigma_V = 10.1 \\, \\mathrm{cm}^3$"
      ],
      "text/plain": [
       "<IPython.core.display.Latex object>"
      ]
     },
     "metadata": {},
     "output_type": "display_data"
    },
    {
     "data": {
      "text/latex": [
       "Fully correlated: $\\sigma_V = 14.1 \\, \\mathrm{cm}^3$"
      ],
      "text/plain": [
       "<IPython.core.display.Latex object>"
      ]
     },
     "metadata": {},
     "output_type": "display_data"
    }
   ],
   "source": [
    "# now distinguish between correlated and uncorrelated and plug in some numbers.\n",
    "r, h, sigma_r, sigma_h = symbols('r h sigma_r sigma_h', positive=True)\n",
    "V = pi * r**2 * h\n",
    "\n",
    "# unncorrelated, just as function from earlier\n",
    "sigma_V_uncorr = error_prop(V, [(r, sigma_r), (h, sigma_h)])\n",
    "\n",
    "# fully correlated, eg rho =1 with corr function\n",
    "cov_matrix = [[sigma_r**2, 1*sigma_r*sigma_h], [1* sigma_r*sigma_h, sigma_h**2]]\n",
    "sigma_V_corr = error_prop_corr(V, [r, h], cov_matrix)\n",
    "\n",
    "# sub real values\n",
    "subs_dict = {r: 5, h: 2, sigma_r: 0.1, sigma_h: 0.1}\n",
    "V_central = V.subs(subs_dict).evalf()\n",
    "result_uncorr = sigma_V_uncorr.subs(subs_dict).evalf()\n",
    "result_corr = sigma_V_corr.subs(subs_dict).evalf()\n",
    "\n",
    "display(Latex(f\" Volume: $V = {latex(V)} = {V_central:.1f} \\, \\mathrm{{cm}}^3$\"))\n",
    "display(Latex(f\"Uncorrelated: $\\\\sigma_V = {result_uncorr:.1f} \\, \\mathrm{{cm}}^3$\"))\n",
    "display(Latex(f\"Fully correlated: $\\\\sigma_V = {result_corr:.1f} \\, \\mathrm{{cm}}^3$\"))"
   ]
  },
  {
   "cell_type": "markdown",
   "metadata": {},
   "source": [
    "This shows that having correlated variables leads to a larger error. Conceptually this makes sense – an error/change in one variable would induce an error/change in the other thus being mistaken in one variable leads to having an error in the other variable as well.\n",
    "\n",
    "c) The scattering angle and the radial distance of a certain particle can be determined from a position measurement $(x,y)$ \n",
    "$$r = \\sqrt{x^2 + y^2}, \\quad \\theta = \\mathrm{atan2}(y, x)$$\n",
    "You find more on the [atan2](https://en.wikipedia.org/wiki/Atan2) function on wikipedia. The position ($x$,$y$) is measured with the corresponding uncertainties $\\sigma_x$ and $\\sigma_y$. Write a python function that returns the covariance matrix $U$ of $r$ and $\\theta$ for a given covariance matrix $V$ of $x$ and $y$. Determine $U$ under the assumption that $x$ and $y$ are uncorrelated. Hint: The formulas you need can be found in the script."
   ]
  },
  {
   "cell_type": "code",
   "execution_count": 27,
   "metadata": {},
   "outputs": [
    {
     "name": "stdout",
     "output_type": "stream",
     "text": [
      "Covariance matrix U (general):\n"
     ]
    },
    {
     "data": {
      "text/latex": [
       "\\left[\\begin{matrix}\\frac{\\sigma_{x} x \\left(\\rho \\sigma_{y} y + \\sigma_{x} x\\right) + \\sigma_{y} y \\left(\\rho \\sigma_{x} x + \\sigma_{y} y\\right)}{x^{2} + y^{2}} & \\frac{- \\sigma_{x} y \\left(\\rho \\sigma_{y} y + \\sigma_{x} x\\right) + \\sigma_{y} x \\left(\\rho \\sigma_{x} x + \\sigma_{y} y\\right)}{\\left(x^{2} + y^{2}\\right)^{\\frac{3}{2}}}\\\\\\frac{\\sigma_{x} x \\left(\\rho \\sigma_{y} x - \\sigma_{x} y\\right) - \\sigma_{y} y \\left(\\rho \\sigma_{x} y - \\sigma_{y} x\\right)}{\\left(x^{2} + y^{2}\\right)^{\\frac{3}{2}}} & \\frac{- \\sigma_{x} y \\left(\\rho \\sigma_{y} x - \\sigma_{x} y\\right) - \\sigma_{y} x \\left(\\rho \\sigma_{x} y - \\sigma_{y} x\\right)}{\\left(x^{2} + y^{2}\\right)^{2}}\\end{matrix}\\right]"
      ],
      "text/plain": [
       "<IPython.core.display.Latex object>"
      ]
     },
     "metadata": {},
     "output_type": "display_data"
    },
    {
     "name": "stdout",
     "output_type": "stream",
     "text": [
      "\n",
      "Covariance matrix U (uncorrelated x and y):\n"
     ]
    },
    {
     "data": {
      "text/latex": [
       "\\left[\\begin{matrix}\\frac{\\sigma_{x}^{2} x^{2} + \\sigma_{y}^{2} y^{2}}{x^{2} + y^{2}} & \\frac{x y \\left(- \\sigma_{x}^{2} + \\sigma_{y}^{2}\\right)}{\\left(x^{2} + y^{2}\\right)^{\\frac{3}{2}}}\\\\\\frac{x y \\left(- \\sigma_{x}^{2} + \\sigma_{y}^{2}\\right)}{\\left(x^{2} + y^{2}\\right)^{\\frac{3}{2}}} & \\frac{\\sigma_{x}^{2} y^{2} + \\sigma_{y}^{2} x^{2}}{\\left(x^{2} + y^{2}\\right)^{2}}\\end{matrix}\\right]"
      ],
      "text/plain": [
       "<IPython.core.display.Latex object>"
      ]
     },
     "metadata": {},
     "output_type": "display_data"
    },
    {
     "name": "stdout",
     "output_type": "stream",
     "text": [
      "\\left[\\begin{matrix}\\frac{\\sigma_{x} x \\left(\\rho \\sigma_{y} y + \\sigma_{x} x\\right) + \\sigma_{y} y \\left(\\rho \\sigma_{x} x + \\sigma_{y} y\\right)}{x^{2} + y^{2}} & \\frac{- \\sigma_{x} y \\left(\\rho \\sigma_{y} y + \\sigma_{x} x\\right) + \\sigma_{y} x \\left(\\rho \\sigma_{x} x + \\sigma_{y} y\\right)}{\\left(x^{2} + y^{2}\\right)^{\\frac{3}{2}}}\\\\\\frac{\\sigma_{x} x \\left(\\rho \\sigma_{y} x - \\sigma_{x} y\\right) - \\sigma_{y} y \\left(\\rho \\sigma_{x} y - \\sigma_{y} x\\right)}{\\left(x^{2} + y^{2}\\right)^{\\frac{3}{2}}} & \\frac{- \\sigma_{x} y \\left(\\rho \\sigma_{y} x - \\sigma_{x} y\\right) - \\sigma_{y} x \\left(\\rho \\sigma_{x} y - \\sigma_{y} x\\right)}{\\left(x^{2} + y^{2}\\right)^{2}}\\end{matrix}\\right]\n",
      "\\left[\\begin{matrix}\\frac{\\sigma_{x}^{2} x^{2} + \\sigma_{y}^{2} y^{2}}{x^{2} + y^{2}} & \\frac{x y \\left(- \\sigma_{x}^{2} + \\sigma_{y}^{2}\\right)}{\\left(x^{2} + y^{2}\\right)^{\\frac{3}{2}}}\\\\\\frac{x y \\left(- \\sigma_{x}^{2} + \\sigma_{y}^{2}\\right)}{\\left(x^{2} + y^{2}\\right)^{\\frac{3}{2}}} & \\frac{\\sigma_{x}^{2} y^{2} + \\sigma_{y}^{2} x^{2}}{\\left(x^{2} + y^{2}\\right)^{2}}\\end{matrix}\\right]\n"
     ]
    }
   ],
   "source": [
    "from sympy import symbols, sqrt, atan2, Matrix, diff, simplify\n",
    "\n",
    "# define symbols as usual\n",
    "x, y, rho,sigma_x, sigma_y = symbols('x y rho sigma_x sigma_y', real=True)\n",
    "\n",
    "# def transformation to polar coords\n",
    "r = sqrt(x**2 + y**2)\n",
    "theta = atan2(y, x) # sympy atan2 has y first for some reason\n",
    "\n",
    "# index the symbols\n",
    "f = [r, theta]\n",
    "a = [x, y]\n",
    "\n",
    "# calculate Jacobian matrix G\n",
    "G = Matrix([[diff(fi, aj) for aj in a] for fi in f])\n",
    "\n",
    "# write general to see formula covariance matrix V for x, y\n",
    "V = Matrix([[sigma_x**2, rho * sigma_x * sigma_y],\n",
    "            [rho * sigma_x * sigma_y, sigma_y**2]])\n",
    "\n",
    "# covariance transformation function\n",
    "def cov_trafo(V):\n",
    "    U = simplify(G * V * G.T)\n",
    "    return U\n",
    "\n",
    "# Compute\n",
    "U_general = cov_trafo(V)\n",
    "print(\"Covariance matrix U (general):\")\n",
    "display(Latex(latex(U_general)))\n",
    "\n",
    "# Now plug in rho = 0 for uncorrelated variables\n",
    "V_uncorr = V.subs(rho, 0)\n",
    "U_uncorr = cov_trafo(V_uncorr)\n",
    "print(\"\\nCovariance matrix U (uncorrelated x and y):\")\n",
    "\n",
    "display(Latex(latex(U_uncorr)))\n",
    "\n",
    "print(latex(U_general))\n",
    "print(latex(U_uncorr.doit()))"
   ]
  },
  {
   "cell_type": "markdown",
   "metadata": {},
   "source": [
    "No clue why the notebook suddenly decided to not render latex anymore.\n",
    "\n",
    "General case:\n",
    "\n",
    "$$U_{general} = \\left[\\begin{matrix}\\frac{\\sigma_{x} x \\left(\\rho \\sigma_{y} y + \\sigma_{x} x\\right) + \\sigma_{y} y \\left(\\rho \\sigma_{x} x + \\sigma_{y} y\\right)}{x^{2} + y^{2}} & \\frac{- \\sigma_{x} y \\left(\\rho \\sigma_{y} y + \\sigma_{x} x\\right) + \\sigma_{y} x \\left(\\rho \\sigma_{x} x + \\sigma_{y} y\\right)}{\\left(x^{2} + y^{2}\\right)^{\\frac{3}{2}}}\\\\\\frac{\\sigma_{x} x \\left(\\rho \\sigma_{y} x - \\sigma_{x} y\\right) - \\sigma_{y} y \\left(\\rho \\sigma_{x} y - \\sigma_{y} x\\right)}{\\left(x^{2} + y^{2}\\right)^{\\frac{3}{2}}} & \\frac{- \\sigma_{x} y \\left(\\rho \\sigma_{y} x - \\sigma_{x} y\\right) - \\sigma_{y} x \\left(\\rho \\sigma_{x} y - \\sigma_{y} x\\right)}{\\left(x^{2} + y^{2}\\right)^{2}}\\end{matrix}\\right]$$\n",
    "\n",
    "And uncorrelated case:\n",
    "\n",
    "$$U_{uncorr} = \\left[\\begin{matrix}\\frac{\\sigma_{x}^{2} x^{2} + \\sigma_{y}^{2} y^{2}}{x^{2} + y^{2}} & \\frac{x y \\left(- \\sigma_{x}^{2} + \\sigma_{y}^{2}\\right)}{\\left(x^{2} + y^{2}\\right)^{\\frac{3}{2}}}\\\\\\frac{x y \\left(- \\sigma_{x}^{2} + \\sigma_{y}^{2}\\right)}{\\left(x^{2} + y^{2}\\right)^{\\frac{3}{2}}} & \\frac{\\sigma_{x}^{2} y^{2} + \\sigma_{y}^{2} x^{2}}{\\left(x^{2} + y^{2}\\right)^{2}}\\end{matrix}\\right]$$\n",
    "\n",
    "And one can see how, when uncorrelated variables are subject to a coordinate transforms \"mixing\" them together (e.g. radius and theta both depend on x,y each) the resulting variables are correlated."
   ]
  }
 ],
 "metadata": {
  "kernelspec": {
   "display_name": "mlfp",
   "language": "python",
   "name": "python3"
  },
  "language_info": {
   "codemirror_mode": {
    "name": "ipython",
    "version": 3
   },
   "file_extension": ".py",
   "mimetype": "text/x-python",
   "name": "python",
   "nbconvert_exporter": "python",
   "pygments_lexer": "ipython3",
   "version": "3.11.10"
  }
 },
 "nbformat": 4,
 "nbformat_minor": 4
}
