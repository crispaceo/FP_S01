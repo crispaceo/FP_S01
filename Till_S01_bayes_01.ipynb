{
 "cells": [
  {
   "cell_type": "markdown",
   "metadata": {},
   "source": [
    "# Branching ratios\n",
    "\n",
    "A newly discovered particle was found to be able to decay in two different ways (two different decay channels): $\\alpha$ and $\\beta$. The probability $f_\\alpha$ for decay $\\alpha$ to happen is called its _branching ratio_.\n",
    "\n",
    "## Tasks\n",
    "\n",
    "Solve the tasks below.\n",
    "For each task, give reasons for your solution by commenting in the notebook.\n",
    "In conclusion, summarize your findings and contextualize them. What have you learned? Do the results make sense?\n",
    "\n",
    "Your results will be examined for plagiarism. Please use your own plot styles, articulate your own thoughts, and present your own experimental approaches.\n",
    "\n",
    "a) For a fixed number N of observed decays, explain why the number of decays to channel $\\alpha$ should follow a binomial distribution.\n",
    "\n",
    "b) Write down the conditional p.d.f. (aka posterior probability distribution) obtained via Bayes' theorem $P(f_\\alpha|\\vec{k})$ where $\\vec{k}$ are your observations. Explain the parameters and the different terms. What do you want to describe with $P(f_\\alpha|\\vec{k})$?\n",
    "\n",
    "c) Assuming a flat prior for the branching ratio $\\pi(f_\\alpha)=1 \\forall f_\\alpha\\in[0,1]$ calculate and draw the posterior probability distribution for $f_\\alpha$ after measuring a single decay, which went to $\\alpha$.\n",
    "\n",
    "d) Using the previous result as a prior, calculate and draw the new posterior after each of the observed additional decays \"$\\beta$\", \"$\\alpha$\", \"$\\alpha$\", \"$\\beta$\"\n",
    "\n",
    "e) Calculate and draw the posterior after observing 100 decays, with 58 going to $\\alpha$.\n",
    "\n",
    "\n",
    "### Hints\n",
    "\n",
    "1. It is recommended to not start coding right away.\n",
    "1. Realize what **one experiment** means in this task and how you then construct your Likelihood.\n",
    "\n",
    "You can solve this problem by explicitly going through the single steps of the calculations. When representing the distributions with numpy arrays, 'np.sum()' comes in handy in the calculation of the normalization. Alternatively, you can also use the beta pdf which was discussed in the lecture and which is accessible through the scipy.stats package 'from scipy.stats import beta‘.\n"
   ]
  },
  {
   "cell_type": "markdown",
   "metadata": {},
   "source": [
    "a) This follows a binomial distribution, because we have a constant branching ratio and therefore seperate independant trials between decay $\\alpha$ and $\\beta$."
   ]
  },
  {
   "cell_type": "markdown",
   "metadata": {},
   "source": [
    "b) from the manual we get the Posterior as $P(\\vec{\\lambda} \\mid x)=\\frac{L(x \\mid \\vec{\\lambda}) \\pi(\\vec{\\lambda})}{\\int L(x \\mid \\vec{\\lambda}) \\pi(\\vec{\\lambda}) d \\vec{\\lambda}} \\Rightarrow P\\left(f_\\alpha \\mid \\vec{k}\\right)=\\frac{L\\left(\\vec{k} \\mid f_\\alpha\\right) \\pi\\left(f_\\alpha\\right)}{\\int_0^1 L\\left(\\vec{k} \\mid f_\\alpha\\right) \\pi\\left(f_\\alpha\\right) d f_\\alpha} $"
   ]
  }
 ],
 "metadata": {
  "kernelspec": {
   "display_name": "Python 3 (ipykernel)",
   "language": "python",
   "name": "python3"
  },
  "language_info": {
   "codemirror_mode": {
    "name": "ipython",
    "version": 3
   },
   "file_extension": ".py",
   "mimetype": "text/x-python",
   "name": "python",
   "nbconvert_exporter": "python",
   "pygments_lexer": "ipython3",
   "version": "3.12.4"
  }
 },
 "nbformat": 4,
 "nbformat_minor": 4
}
