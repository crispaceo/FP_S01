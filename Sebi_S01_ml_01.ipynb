{
 "cells": [
  {
   "cell_type": "markdown",
   "metadata": {},
   "source": [
    "# Maximum-likelihood estimate for mean lifetime in radiactive decay\n",
    "\n",
    "Solve the tasks below.\n",
    "For each task, give reasons for your solution by commenting in the notebook.\n",
    "In conclusion, summarize your findings and contextualize them. What have you learned? Do the results make sense?\n",
    "\n",
    "Your results will be examined for plagiarism. Please use your own plot styles, articulate your own thoughts, and present your own experimental approaches.\n",
    "\n",
    "## Tasks\n",
    "\n",
    "a) The maximum likelihood estimator for the mean lifetime $\\tau$ of a radioactive decay desribed by the distribution\n",
    "\n",
    "$$ f(t, \\tau) = \\frac{1}{\\tau} e^{-t/\\tau}$$\n",
    "\n",
    "is give by \n",
    "\n",
    "$$\\hat \\tau = \\frac{1}{n} \\sum_{i=1}^n t_i.$$\n",
    "\n",
    "The standard deviation of $\\hat \\tau$ can be estimated as \n",
    "\n",
    "$$\\sigma_\\tau^2 = - \\left(\\frac{\\partial^2 \\ln L(\\tau)}{\\partial^2 \\tau} \\Big|_{\\tau = \\hat \\tau} \\right)^{-1}$$\n",
    "\n",
    "Use that to show that the uncertainty of $\\hat \\tau$ is given by $\\sigma_\\tau = \\frac{\\hat \\tau}{\\sqrt{n}}$\n",
    "\n",
    "b) Use the function *generate_data* defined below to generate a data set with 30 and 300 samples for $\\tau = 2$, respectively. Plot the log-likelihood function $\\ln L(\\tau)$ along with the parabolic approximation. \n",
    "\n",
    "$$ \\ln L(\\tau) \\approx \\ln L_\\mathrm{max} - \\frac{(\\tau - \\hat \\tau)^2}{2 \\sigma^2}$$\n",
    "\n",
    "What can you conclude about the validity of the approximtion as the sample size increases?\n",
    "\n",
    "c) Generate 1000 data sets each with 500 samples for $\\tau = 2$ and determine for each data set whether the true value of tau lies in the interval $[\\hat \\tau - \\sigma_{\\hat \\tau}, \\hat \\tau + \\sigma_{\\hat \\tau}]$. How often does the true value lie in this interval? What is your expection for the correspinding probability?\n",
    "\n",
    "\n",
    "### Hints\n",
    "\n",
    "It is recommended to not start coding right away. Try to really understand how the Likelihood looks first. Realize, what the Likelihood is a function of and what it describes.\n"
   ]
  },
  {
   "cell_type": "markdown",
   "metadata": {},
   "source": [
    "# Task 1"
   ]
  },
  {
   "cell_type": "code",
   "execution_count": 54,
   "metadata": {},
   "outputs": [
    {
     "name": "stdout",
     "output_type": "stream",
     "text": [
      "pdf for individual measurment:\n"
     ]
    },
    {
     "data": {
      "text/latex": [
       "$\\displaystyle f(t_{i}, \\tau) = \\frac{e^{- \\frac{{t}_{i}}{\\tau}}}{\\tau}$"
      ],
      "text/plain": [
       "<IPython.core.display.Math object>"
      ]
     },
     "metadata": {},
     "output_type": "display_data"
    },
    {
     "name": "stdout",
     "output_type": "stream",
     "text": [
      "we'll take the log of the product of the pdfs for the likehood so might as well \n",
      " already work in terms for easier handling\n"
     ]
    },
    {
     "data": {
      "text/latex": [
       "$\\displaystyle \\text{Log likelihood term: } \\ell_i(\\tau) = - \\log{\\left(\\tau \\right)} - \\frac{{t}_{i}}{\\tau}$"
      ],
      "text/plain": [
       "<IPython.core.display.Math object>"
      ]
     },
     "metadata": {},
     "output_type": "display_data"
    },
    {
     "name": "stdout",
     "output_type": "stream",
     "text": [
      "note: sympy define 'log' as the natural logarithm\n"
     ]
    },
    {
     "data": {
      "text/latex": [
       "$\\displaystyle \\ln L(\\tau) = \\sum_{i=1}^{N} \\left(- \\log{\\left(\\tau \\right)} - \\frac{{t}_{i}}{\\tau}\\right)$"
      ],
      "text/plain": [
       "<IPython.core.display.Math object>"
      ]
     },
     "metadata": {},
     "output_type": "display_data"
    },
    {
     "data": {
      "text/latex": [
       "$\\displaystyle \\frac{\\partial^2 \\ell_i}{\\partial \\tau^2} = \\frac{1 - \\frac{2 {t}_{i}}{\\tau}}{\\tau^{2}}$"
      ],
      "text/plain": [
       "<IPython.core.display.Math object>"
      ]
     },
     "metadata": {},
     "output_type": "display_data"
    },
    {
     "data": {
      "text/latex": [
       "$\\displaystyle \\frac{\\partial^2 \\ln L}{\\partial \\tau^2} = \\sum_{i=1}^{N} \\frac{1 - \\frac{2 {t}_{i}}{\\tau}}{\\tau^{2}}$"
      ],
      "text/plain": [
       "<IPython.core.display.Math object>"
      ]
     },
     "metadata": {},
     "output_type": "display_data"
    },
    {
     "data": {
      "text/latex": [
       "$\\displaystyle \\hat{\\tau} = \\frac{\\sum_{i=1}^{N} {t}_{i}}{N}$"
      ],
      "text/plain": [
       "<IPython.core.display.Math object>"
      ]
     },
     "metadata": {},
     "output_type": "display_data"
    },
    {
     "data": {
      "text/latex": [
       "$\\displaystyle \\left. \\frac{\\partial^2 \\ln L}{\\partial \\tau^2} \\right|_{\\tau = \\hat{\\tau}} = \\sum_{i=1}^{N} \\frac{N^{2} \\left(- \\frac{2 N {t}_{i}}{\\sum_{i=1}^{N} {t}_{i}} + 1\\right)}{\\left(\\sum_{i=1}^{N} {t}_{i}\\right)^{2}}$"
      ],
      "text/plain": [
       "<IPython.core.display.Math object>"
      ]
     },
     "metadata": {},
     "output_type": "display_data"
    },
    {
     "data": {
      "text/latex": [
       "$\\displaystyle \\sigma_\\tau = \\frac{\\sqrt{\\left(\\sum_{i=1}^{N} {t}_{i}\\right)^{2}}}{N^{\\frac{3}{2}}}$"
      ],
      "text/plain": [
       "<IPython.core.display.Math object>"
      ]
     },
     "metadata": {},
     "output_type": "display_data"
    },
    {
     "name": "stdout",
     "output_type": "stream",
     "text": [
      "idk why the square root doesnt get simplified away – \n",
      " but a human sees the we can deconstruct the expression to\n"
     ]
    },
    {
     "data": {
      "text/latex": [
       "$\\displaystyle \\sigma_\\tau =\\frac{\\hat{{\\tau}}}{\\sqrt{N}} $"
      ],
      "text/plain": [
       "<IPython.core.display.Math object>"
      ]
     },
     "metadata": {},
     "output_type": "display_data"
    }
   ],
   "source": [
    "import sympy as sp\n",
    "from IPython.display import display, Math\n",
    "\n",
    "# Symbols\n",
    "tau, N = sp.symbols('tau N', positive=True, real=True)\n",
    "i = sp.symbols('i', integer=True)\n",
    "t = sp.IndexedBase('t')\n",
    "\n",
    "# this is then our pdf for any individual measurment\n",
    "pdf = tau**(-1)*sp.exp(-t[i]/tau)\n",
    "\n",
    "print(\"pdf for individual measurment:\")\n",
    "display(Math(rf\"f(t_{{i}}, \\tau) = {sp.latex(pdf)}\"))\n",
    "\n",
    "print(\"we'll take the log of the product of the pdfs for the likehood so might as well \\n already work in terms for easier handling\")\n",
    "# Term inside the log likelihood sum for each measurement\n",
    "term = -sp.log(tau) - t[i]/tau\n",
    "display(Math(rf\"\\text{{Log likelihood term: }} \\ell_i(\\tau) = {sp.latex(term)}\"))\n",
    "print(\"note: sympy define 'log' as the natural logarithm\")\n",
    "\n",
    "\n",
    "# Sum over i=1 to N\n",
    "logL = sp.Sum(term, (i, 1, N))\n",
    "display(Math(rf\"\\ln L(\\tau) = {sp.latex(logL)}\"))\n",
    "\n",
    "\n",
    "\n",
    "\n",
    "# Second derivative of term w.r.t. tau\n",
    "d2_term = sp.diff(term, tau, 2)\n",
    "display(Math(rf\"\\frac{{\\partial^2 \\ell_i}}{{\\partial \\tau^2}} = {sp.latex(d2_term)}\"))\n",
    "\n",
    "# Sum of second derivatives\n",
    "d2_logL = sp.Sum(d2_term, (i, 1, N)).doit()\n",
    "display(Math(r\"\\frac{\\partial^2 \\ln L}{\\partial \\tau^2} = \" + sp.latex(d2_logL)))\n",
    "\n",
    "# MLE estimator: sample mean (symbolic)\n",
    "tau_hat = (1/N)*sp.Sum(t[i], (i, 1, N)).doit()\n",
    "display(Math(r\"\\hat{\\tau} = \" + sp.latex(tau_hat)))\n",
    "\n",
    "# Evaluate second derivative at tau = tau_hat\n",
    "d2_logL_at_tau_hat = d2_logL.subs(tau, tau_hat)\n",
    "display(Math(rf\"\\left. \\frac{{\\partial^2 \\ln L}}{{\\partial \\tau^2}} \\right|_{{\\tau = \\hat{{\\tau}}}} = {sp.latex(d2_logL_at_tau_hat)}\"))\n",
    "\n",
    "# Variance estimate: negative inverse of second derivative at tau_hat\n",
    "sigma2_tau = -1/d2_logL_at_tau_hat\n",
    "sigma_tau = sp.sqrt(sigma2_tau)\n",
    "display(Math(r\"\\sigma_\\tau = \" + sp.latex(sigma_tau.simplify())))\n",
    "\n",
    "print(\"idk why the square root doesnt get simplified away – \\n but a human sees the we can deconstruct the expression to\")\n",
    "display(Math(r\"\\sigma_\\tau =\\frac{\\hat{{\\tau}}}{\\sqrt{N}} \"))"
   ]
  },
  {
   "cell_type": "markdown",
   "metadata": {},
   "source": [
    "# Task 2\n",
    "$$ \\ln L(\\tau) \\approx \\ln L_\\mathrm{max} - \\frac{(\\tau - \\hat \\tau)^2}{2 \\sigma^2}$$\n",
    "\n",
    "What can you conclude about the validity of the approximtion as the sample size increases?"
   ]
  },
  {
   "cell_type": "code",
   "execution_count": 69,
   "metadata": {},
   "outputs": [
    {
     "data": {
      "text/plain": [
       "Text(0.5, 0, '$\\\\tau$')"
      ]
     },
     "execution_count": 69,
     "metadata": {},
     "output_type": "execute_result"
    },
    {
     "data": {
      "image/png": "[encoded data removed]",
      "text/plain": [
       "<Figure size 640x480 with 1 Axes>"
      ]
     },
     "metadata": {},
     "output_type": "display_data"
    }
   ],
   "source": [
    "import numpy as np\n",
    "import matplotlib.pyplot as plt\n",
    "def generate_data(tau, n_samples):\n",
    "    return np.random.exponential(tau, n_samples)\n",
    "\n",
    "#set params\n",
    "tau_real = 2\n",
    "n_samples_list = [30,300]\n",
    "\n",
    "#loop over sample sizes\n",
    "for n_samples in n_samples_list:\n",
    "    # generate data\n",
    "    data = generate_data(tau_real,n_samples)\n",
    "\n",
    "    # log likelyhood will takes the form (from above):\n",
    "    # ln L(tau)= sum_over_i(-ln(tau) - t_i/tau)\n",
    "    # which is a function over tau, so we start with defining a tau linspace \n",
    "    # and numerically evaluating the function afterwards\n",
    "\n",
    "    tau_space = np.linspace(1,4,100) #we know its 2 so choose range appropriately\n",
    "    logL = np.array([np.sum(-np.log(tau) - data/tau) for tau in tau_space]) #this is admitedly a very condensed version but thats fun\n",
    "\n",
    "    \n",
    "    # now do the parabolic approximation\n",
    "    # i'm assuming L_max is just the regular L evaluated at tau_hat\n",
    "\n",
    "    # first calculate tau_hat from an array of samples, which is just the sample mean of the data lol\n",
    "    # and we know the form for the uncertainty\n",
    "    tau_hat = data.mean()\n",
    "    sigma_tau_hat = tau_hat/np.sqrt(data.shape[0])\n",
    "\n",
    "    # now evaluate the parabolic approx in same tau_range as before\n",
    "    logL_parab = np.array([np.sum(-np.log(tau_hat) - data/tau_hat) - ((tau - tau_hat)**2)/(2*sigma_tau_hat**2) for tau in tau_space])\n",
    "\n",
    "    # now plot\n",
    "\n",
    "    plt.plot(tau_space, logL - logL.max(), label=f\"Log L for n={n_samples}\")\n",
    "    plt.plot(tau_space, logL_parab - logL_parab.max(), label=f\"Log L (parab. approx.) for n={n_samples}\",ls=\"dashed\")\n",
    "\n",
    "plt.legend(); plt.ylim(-1,1); plt.title(\"Comparing log L and the parabolic approximation for different sample sizes\")\n",
    "\n",
    "plt.ylabel(\"Log Likelyhood - max(Log Likehood)\")\n",
    "plt.xlabel(r\"$\\tau$\")"
   ]
  },
  {
   "cell_type": "markdown",
   "metadata": {},
   "source": [
    "In order to be able to compare the curves for both sample sizes in the same plot the maxima are set to 0. This doesnt change the form of the curves but just shifts them. Then the y-limits are chosen such that we can clearly see whats going on.\n",
    "\n",
    "We can indeed, at least visually, confirm that the parabolic approximation is more accurate for higher sample sizes."
   ]
  },
  {
   "cell_type": "markdown",
   "metadata": {},
   "source": [
    "# Task 3\n",
    "c) Generate 1000 data sets each with 500 samples for $\\tau = 2$ and determine for each data set whether the true value of tau lies in the interval $[\\hat \\tau - \\sigma_{\\hat \\tau}, \\hat \\tau + \\sigma_{\\hat \\tau}]$. How often does the true value lie in this interval? What is your expection for the correspinding probability?"
   ]
  },
  {
   "cell_type": "code",
   "execution_count": 113,
   "metadata": {},
   "outputs": [
    {
     "name": "stdout",
     "output_type": "stream",
     "text": [
      "In 686 out of 1000 instances tau was in the range (tau_hat - sigma_tau_hat, tau_hat + sigma_tau_hat)  \n"
     ]
    }
   ],
   "source": [
    "#set params\n",
    "n_data_sets = 1000\n",
    "n_samples = 500\n",
    "tau_real\n",
    "\n",
    "#its generatin time, first set a counter tho for how often it works\n",
    "counter = 0\n",
    "\n",
    "for i in range(n_data_sets):\n",
    "    data = generate_data(tau_real,n_samples)\n",
    "\n",
    "    # calculate tau hat and sigma\n",
    "    tau_hat = data.mean()\n",
    "    sigma_tau_hat = tau_hat/np.sqrt(data.shape[0])\n",
    "    if np.allclose(tau_hat,tau_real,atol=sigma_tau_hat):\n",
    "        counter += 1\n",
    "\n",
    "print(fr\"In {counter} out of {n_data_sets} instances tau was in the range (tau_hat - sigma_tau_hat, tau_hat + sigma_tau_hat)  \")"
   ]
  },
  {
   "cell_type": "markdown",
   "metadata": {},
   "source": [
    "This is a typical one-sigma confidence interval – we expect a 68% probability of the estimated parameter to be within 1-sigma of the true parameter."
   ]
  }
 ],
 "metadata": {
  "kernelspec": {
   "display_name": "mlfp",
   "language": "python",
   "name": "python3"
  },
  "language_info": {
   "codemirror_mode": {
    "name": "ipython",
    "version": 3
   },
   "file_extension": ".py",
   "mimetype": "text/x-python",
   "name": "python",
   "nbconvert_exporter": "python",
   "pygments_lexer": "ipython3",
   "version": "3.11.10"
  }
 },
 "nbformat": 4,
 "nbformat_minor": 4
}
